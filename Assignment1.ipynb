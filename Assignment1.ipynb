{
  "nbformat": 4,
  "nbformat_minor": 0,
  "metadata": {
    "colab": {
      "name": "Untitled0.ipynb",
      "version": "0.3.2",
      "provenance": [],
      "collapsed_sections": [],
      "include_colab_link": true
    },
    "kernelspec": {
      "name": "python3",
      "display_name": "Python 3"
    }
  },
  "cells": [
    {
      "cell_type": "markdown",
      "metadata": {
        "id": "view-in-github",
        "colab_type": "text"
      },
      "source": [
        "<a href=\"https://colab.research.google.com/github/shivankgarg98/AE630-control-codes/blob/master/Assignment1.ipynb\" target=\"_parent\"><img src=\"https://colab.research.google.com/assets/colab-badge.svg\" alt=\"Open In Colab\"/></a>"
      ]
    },
    {
      "cell_type": "code",
      "metadata": {
        "id": "M0GoBowGUdGF",
        "colab_type": "code",
        "colab": {}
      },
      "source": [
        "import numpy as np\n",
        "import matplotlib.pyplot as plt\n",
        "from scipy.linalg import expm"
      ],
      "execution_count": 0,
      "outputs": []
    },
    {
      "cell_type": "code",
      "metadata": {
        "id": "z6rZlsewyuEx",
        "colab_type": "code",
        "colab": {}
      },
      "source": [
        "def unhat(A):\n",
        "  return np.array([A[2][1], A[0][2], A[1][0]])\n",
        "def hat(a):\n",
        "  return np.array([[0, -a[2], a[1]] , [a[2] , 0, -a[0]], [-a[1], a[0], 0]])"
      ],
      "execution_count": 0,
      "outputs": []
    },
    {
      "cell_type": "code",
      "metadata": {
        "id": "1-1a1iBa1EB5",
        "colab_type": "code",
        "colab": {}
      },
      "source": [
        "def ER(R, Rd):\n",
        "  return unhat(np.matmul(Rd.T,R)-np.matmul(R.T,Rd))\n",
        "def EW(R,Rd,w,wd):\n",
        "  r = np.matmul(Rd,R.T)\n",
        "  return w - np.matmul(r,wd)"
      ],
      "execution_count": 0,
      "outputs": []
    },
    {
      "cell_type": "code",
      "metadata": {
        "id": "VUQhmJ7vyX1w",
        "colab_type": "code",
        "colab": {}
      },
      "source": [
        "def controller(kr,kw,er,ew):\n",
        "  return -kr*er-kw*ew"
      ],
      "execution_count": 0,
      "outputs": []
    },
    {
      "cell_type": "code",
      "metadata": {
        "id": "k5c96c216dLU",
        "colab_type": "code",
        "colab": {}
      },
      "source": [
        "J = 0.001*np.array([[1,2,5],[0.5,6,2],[6,3,2]])\n",
        "dt = 0.001\n",
        "cos  = np.cos(np.pi/3)\n",
        "sin = np.sin(np.pi/3)\n",
        "R = np.array([[cos,-sin,0],[sin, cos, 0], [0,0,1]])\n",
        "Rd = np.identity(3)\n",
        "w = 0.01*np.array([0,0,0])\n",
        "wd = 0.002*np.array([1,1,1])\n",
        "kr = 0.08\n",
        "kw = 0.02"
      ],
      "execution_count": 0,
      "outputs": []
    },
    {
      "cell_type": "code",
      "metadata": {
        "id": "zXVis-wAU-tA",
        "colab_type": "code",
        "colab": {
          "base_uri": "https://localhost:8080/",
          "height": 269
        },
        "outputId": "12c69614-31e7-4757-97f0-c79dd67ff444"
      },
      "source": [
        "data1 =[]\n",
        "data2 = []\n",
        "data3 = []\n",
        "\n",
        "for i in range(500):\n",
        "  Mnew = controller(kr,kw,ER(R,Rd),EW(R,Rd,w,wd))\n",
        "  wnew = w + np.matmul(np.linalg.inv(J), Mnew- np.cross(w,np.matmul(J,w)))*dt\n",
        "  Rnew = R*expm(hat(wnew)*dt)\n",
        "  R = Rnew\n",
        "  M = Mnew\n",
        "  w = wnew\n",
        "#   print(Rnew)\n",
        "  data1.append(wnew[0])\n",
        "  data2.append(wnew[1])\n",
        "  data3.append(wnew[2])\n",
        "plt.plot(range(len(data1)), data1)\n",
        "plt.plot(range(len(data2)), data2)\n",
        "plt.plot(range(len(data3)), data3)\n",
        "plt.show()\n",
        "  "
      ],
      "execution_count": 59,
      "outputs": [
        {
          "output_type": "display_data",
          "data": {
            "image/png": "[encoded data removed]",
            "text/plain": [
              "<Figure size 432x288 with 1 Axes>"
            ]
          },
          "metadata": {
            "tags": []
          }
        }
      ]
    },
    {
      "cell_type": "code",
      "metadata": {
        "id": "zk8lNKkR0cyK",
        "colab_type": "code",
        "colab": {}
      },
      "source": [
        ""
      ],
      "execution_count": 0,
      "outputs": []
    }
  ]
}