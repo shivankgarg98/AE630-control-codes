{
  "nbformat": 4,
  "nbformat_minor": 0,
  "metadata": {
    "kernelspec": {
      "display_name": "Python 3",
      "language": "python",
      "name": "python3"
    },
    "language_info": {
      "codemirror_mode": {
        "name": "ipython",
        "version": 3
      },
      "file_extension": ".py",
      "mimetype": "text/x-python",
      "name": "python",
      "nbconvert_exporter": "python",
      "pygments_lexer": "ipython3",
      "version": "3.5.2"
    },
    "colab": {
      "name": "AE630A-final-exam.ipynb",
      "provenance": [],
      "collapsed_sections": [],
      "include_colab_link": true
    }
  },
  "cells": [
    {
      "cell_type": "markdown",
      "metadata": {
        "id": "view-in-github",
        "colab_type": "text"
      },
      "source": [
        "<a href=\"https://colab.research.google.com/github/shivankgarg98/AE630-control-codes/blob/master/AE630A_final_exam.ipynb\" target=\"_parent\"><img src=\"https://colab.research.google.com/assets/colab-badge.svg\" alt=\"Open In Colab\"/></a>"
      ]
    },
    {
      "cell_type": "code",
      "metadata": {
        "id": "nJgG2Z1ZRq-9"
      },
      "source": [
        "## 2019 (c) Ahsan Barkati, Shivank Garg\n",
        "##\n",
        " \n",
        "import numpy as np\n",
        "import matplotlib.pyplot as plt\n",
        "from scipy.linalg import expm, sinm, cosm"
      ],
      "execution_count": null,
      "outputs": []
    },
    {
      "cell_type": "code",
      "metadata": {
        "id": "UFj8zhhhRq_F"
      },
      "source": [
        "class aircraft:\n",
        "    def __init__(self, mass, I):\n",
        "        self.mass = mass\n",
        "        self.I = I\n",
        "        self.attitude = np.identity(3)\n",
        "        self.acceleration = np.array([0,0,0])\n",
        "        self.position = np.array([0,0,0])\n",
        "        self. velocity = np.array([0,0,0])\n",
        "        self.omega = np.array([0,0,0])\n",
        "        self.thrust = 0"
      ],
      "execution_count": null,
      "outputs": []
    },
    {
      "cell_type": "code",
      "metadata": {
        "id": "Dn2z9MThRq_L"
      },
      "source": [
        "class attitude_controller:\n",
        "    def __init__(self):\n",
        "        self.rotation_gain = 10\n",
        "        self.omega_gain = 0.8\n",
        "        self.loop_count = 25\n",
        "        self.dt = 0.01\n",
        "        self.omega_history = []\n",
        "        self.attitude_history = []\n",
        "    def rot_to_eul(self, R):\n",
        "        if(R[2][0] != 1 and R[2][0] != -1):\n",
        "            theta1 = -np.arcsin(R[2][0])\n",
        "            theta2 = np.pi - theta1\n",
        "            phi1 = np.arctan2(R[2][1] / np.cos(theta1), R[2][2]/np.cos(theta1))\n",
        "            phi2 = np.arctan2(R[2][1] / np.cos(theta2), R[2][2]/np.cos(theta2))\n",
        "            shi1 = np.arctan2(R[1][0] / np.cos(theta1), R[0][0]/np.cos(theta1))\n",
        "            shi2 = np.arctan2(R[1][0] / np.cos(theta2), R[0][0]/np.cos(theta2))\n",
        "            theta = theta1\n",
        "            phi = phi1\n",
        "            shi = shi1\n",
        "        else:\n",
        "            phi = 0\n",
        "            if(R[2][0] == -1):\n",
        "                theta = np.pi/2\n",
        "                shi = phi + np.arctan2(R[0][1], R[0][2])\n",
        "            else:\n",
        "                theta = -np.pi/2\n",
        "                shi = -phi + arctan2(-R[0][1], -R[0][2])\n",
        "        return theta, phi, shi\n",
        "    def control(self, aircraft, desired_attitude):\n",
        "        self.aircraft = aircraft\n",
        "        w_d = np.array([0,0,0])\n",
        "        for _ in range(self.loop_count):\n",
        "            \n",
        "            (self.omega_history).append(aircraft.omega)\n",
        "            (self.attitude_history).append(self.rot_to_eul(aircraft.attitude))\n",
        "            error_r = self.get_er(desired_attitude, aircraft.attitude)\n",
        "            error_w = self.get_ew(desired_attitude, aircraft.attitude, aircraft.omega, w_d)\n",
        "            moment = self.get_required_moment(error_r, error_w)\n",
        "            omega_new = self.get_w_new(aircraft.omega, moment)\n",
        "            R_new = np.matmul(aircraft.attitude, expm(self.hat(omega_new) * self.dt ))\n",
        "            aircraft.attitude = R_new\n",
        "            aircraft.omega = omega_new\n",
        "        \n",
        "        return aircraft\n",
        "    def plot_omega_history(self):\n",
        "        plt.plot(self.omega_history)\n",
        "        plt.title(\"attitude control\")\n",
        "        plt.xlabel(\"Time\")\n",
        "        plt.ylabel(\"Omega\")\n",
        "    def plot_attitude_history(self):\n",
        "        plt.plot(self.attitude_history)\n",
        "        plt.title(\"attitude control\")\n",
        "        plt.legend(['theta', 'phi', 'shi'])\n",
        "        plt.xlabel(\"Time\")\n",
        "        plt.ylabel(\"Attitude\")\n",
        "        plt.axhline(y=0.2, color='b', linestyle='--')\n",
        "        plt.axhline(y=0.5, color='r', linestyle='--')\n",
        "        plt.axhline(y=1.3, color='g', linestyle='--')\n",
        "\n",
        "        \n",
        "    def hat(self, vector):\n",
        "        return np.array([[0,-vector[2], vector[1]], [vector[2], 0, -vector[0]], [-vector[1], vector[0], 0]])\n",
        "    \n",
        "    def hat_inv(self, Matrix):\n",
        "        return np.array([-Matrix[1][2] , Matrix[0][2], -Matrix[0][1]])\n",
        "\n",
        "    def R_dot(self, R, w_hat):\n",
        "        return np.matmul(R, w_hat)\n",
        "\n",
        "    def get_w_new(self, w, moment):\n",
        "        I = self.aircraft.I\n",
        "        w_dot = np.matmul(np.linalg.inv(I), moment - np.cross(w,np.matmul(I,w)))\n",
        "        return w + w_dot*self.dt\n",
        "\n",
        "    def get_er(self, R_d, R):\n",
        "        e_hat = np.matmul(R_d.T,R) - np.matmul(R.T, R_d)\n",
        "        return self.hat_inv(e_hat)\n",
        "    \n",
        "    def get_ew(self, R_d, R, w, w_d):\n",
        "        return w - np.matmul(np.matmul(R_d, R.T), w_d)\n",
        "    \n",
        "    def get_required_moment(self, error_r, error_w):\n",
        "        return -self.rotation_gain*error_r - self.omega_gain*error_w\n",
        "      \n",
        "    def eul_to_rot(self, eul):\n",
        "        theta, phi, shi = eul\n",
        "        R1 = [np.cos(theta)*np.cos(shi), np.sin(phi)*np.sin(theta)*np.cos(shi)-np.cos(phi)*np.sin(shi), np.cos(phi)*np.sin(theta)*np.cos(shi)+np.sin(phi)*np.sin(shi)]\n",
        "        R2 = [np.cos(theta)*np.sin(shi), np.sin(phi)*np.sin(theta)*np.sin(shi)+np.cos(phi)*np.cos(shi), np.cos(phi)*np.sin(theta)*np.sin(shi)-np.sin(phi)*np.cos(shi)]\n",
        "        R3 = [-np.sin(theta), np.sin(phi)*np.cos(theta), np.cos(phi)*np.cos(theta)]\n",
        "        R = np.array([R1, R2, R3])\n",
        "        return R"
      ],
      "execution_count": null,
      "outputs": []
    },
    {
      "cell_type": "code",
      "metadata": {
        "id": "nZBkQU6ZRq_R"
      },
      "source": [
        "airc = aircraft(mass = 5, I = 0.01*np.identity(3))\n",
        "att_controller = attitude_controller()\n",
        "cos = np.cos(np.pi/3)\n",
        "sin = np.sin(np.pi/3)\n",
        "Rd = np.array([[cos,-sin,0],[sin, cos, 0], [0,0,1]])"
      ],
      "execution_count": null,
      "outputs": []
    },
    {
      "cell_type": "code",
      "metadata": {
        "id": "DOBhKXt-Rq_a",
        "colab": {
          "base_uri": "https://localhost:8080/",
          "height": 295
        },
        "outputId": "9788583c-96de-43af-f964-6c28fb851a6d"
      },
      "source": [
        "aircc = att_controller.control(airc,att_controller.eul_to_rot([0.2,0.5,1.3]))\n",
        "att_controller.plot_attitude_history()"
      ],
      "execution_count": null,
      "outputs": [
        {
          "output_type": "display_data",
          "data": {
            "image/png": "[encoded data removed]",
            "text/plain": [
              "<Figure size 432x288 with 1 Axes>"
            ]
          },
          "metadata": {
            "tags": []
          }
        }
      ]
    },
    {
      "cell_type": "code",
      "metadata": {
        "id": "TocWyNDVRq_3"
      },
      "source": [
        "class position_controller:\n",
        "    def __init__(self):\n",
        "        self.loop_count = 100\n",
        "        self.dt = 0.3\n",
        "        self.g = 9.8\n",
        "        self.kp = 0.08\n",
        "        self.kd = 0.3\n",
        "        self.velocity_const = 0.1\n",
        "        self.position_history = []\n",
        "        self.control_history = []\n",
        "        self.accn_history = []\n",
        "        self.accn_d_history = []\n",
        "        self.vel_history = []\n",
        "    \n",
        "    def control(self, aircraft, desired_position):\n",
        "        self.aircraft = aircraft\n",
        "        m = aircraft.mass\n",
        "        for _ in range(self.loop_count):\n",
        "            position = (self.aircraft).position\n",
        "            accn_desired = self.desired_accn(position, desired_position)\n",
        "            \n",
        "            T_d = self.desired_T(accn_desired)\n",
        "            phi_d = self.desired_phi(T_d, accn_desired)\n",
        "            theta_d = self.desired_theta(T_d, phi_d, accn_desired)\n",
        "\n",
        "            R_d = self.eul_to_rot(theta_d, phi_d, 0)\n",
        "            attitude_cont = attitude_controller()\n",
        "            self.aircraft = attitude_cont.control(self.aircraft, R_d)\n",
        "            new_attitude = self.aircraft.attitude\n",
        "            aircraft.acceleration = (1/m)*(np.array([0,0,m*self.g]) + np.dot(new_attitude, np.array([0,0,-T_d])))\n",
        "            aircraft.velocity = aircraft.velocity + aircraft.acceleration*self.dt\n",
        "            aircraft.position = aircraft.position + aircraft.velocity*self.dt\n",
        "            \n",
        "            self.position_history.append(list(aircraft.position))\n",
        "            self.control_history.append(T_d)\n",
        "            self.accn_history.append(aircraft.acceleration)\n",
        "            self.accn_d_history.append(accn_desired)\n",
        "            self.vel_history.append(aircraft.velocity*np.array([1,1,-1]))\n",
        "        return self.aircraft\n",
        "\n",
        "    def desired_T(self, desired_accn):\n",
        "        accn_x, accn_y, accn_z = desired_accn\n",
        "        m = self.aircraft.mass\n",
        "        T_d = m * (accn_x**2 + accn_y**2 + (self.g-accn_z)**2)**0.5\n",
        "        return T_d\n",
        "    \n",
        "    def desired_phi(self, T_d, desired_accn):\n",
        "        shi_d = 0\n",
        "        m = self.aircraft.mass\n",
        "        accn_x, accn_y, accn_z = desired_accn\n",
        "        num = (-m*accn_x*np.sin(shi_d) + m*accn_y+np.cos(shi_d))\n",
        "        phi_d = np.arcsin(num/T_d)\n",
        "        return phi_d\n",
        "    \n",
        "    def desired_theta(self, T_d, phi_d, desired_accn):\n",
        "        m = self.aircraft.mass\n",
        "        shi_d = 0\n",
        "        accn_x, accn_y, accn_z = desired_accn\n",
        "        num = -m*accn_x*np.cos(shi_d) - m*accn_y*np.sin(shi_d)\n",
        "        theta_d = np.arcsin(num/(T_d*np.cos(phi_d)))\n",
        "        return theta_d\n",
        "    \n",
        "    def eul_to_rot(self, theta, phi, shi):\n",
        "        R1 = [np.cos(theta)*np.cos(shi), np.sin(phi)*np.sin(theta)*np.cos(shi)-np.cos(phi)*np.sin(shi), np.cos(phi)*np.sin(theta)*np.cos(shi)+np.sin(phi)*np.sin(shi)]\n",
        "        R2 = [np.cos(theta)*np.sin(shi), np.sin(phi)*np.sin(theta)*np.sin(shi)+np.cos(phi)*np.cos(shi), np.cos(phi)*np.sin(theta)*np.sin(shi)-np.sin(phi)*np.cos(shi)]\n",
        "        R3 = [-np.sin(theta), np.sin(phi)*np.cos(theta), np.cos(phi)*np.cos(theta)]\n",
        "        R = np.array([R1, R2, R3])\n",
        "        return R\n",
        "    \n",
        "    def desired_velocity(self, X, Xd):\n",
        "        return self.velocity_const * (X - Xd)\n",
        "    \n",
        "    def desired_accn(self, X, X_d):\n",
        "        V_d = self.desired_velocity(X, X_d)\n",
        "        return self.kp*(X_d - X) + self.kd*( V_d - self.aircraft.velocity)"
      ],
      "execution_count": null,
      "outputs": []
    },
    {
      "cell_type": "code",
      "metadata": {
        "id": "q84wATTQRq_8"
      },
      "source": [
        "airc = aircraft(mass = 5, I = 0.01*np.identity(3))\n",
        "airc.position = np.array([10,50,-18])\n",
        "pos_cont = position_controller()\n",
        "airc = pos_cont.control(airc, np.array([90,10,60]))"
      ],
      "execution_count": null,
      "outputs": []
    },
    {
      "cell_type": "code",
      "metadata": {
        "id": "JQ1Xlsh5RrAD",
        "colab": {
          "base_uri": "https://localhost:8080/",
          "height": 35
        },
        "outputId": "551e3ffb-8d04-41b2-f185-262572b95ea7"
      },
      "source": [
        "airc.position"
      ],
      "execution_count": null,
      "outputs": [
        {
          "output_type": "execute_result",
          "data": {
            "text/plain": [
              "array([90.41885703, 13.81151299, 60.38499346])"
            ]
          },
          "metadata": {
            "tags": []
          },
          "execution_count": 9
        }
      ]
    },
    {
      "cell_type": "code",
      "metadata": {
        "id": "FZbaG1hORrAK",
        "colab": {
          "base_uri": "https://localhost:8080/",
          "height": 313
        },
        "outputId": "40a0b4c9-71af-4d61-a772-de343fef3de7"
      },
      "source": [
        "plt.plot(pos_cont.position_history)\n",
        "plt.legend(['x','y','z'])\n",
        "plt.xlabel(\"time\")\n",
        "plt.ylabel(\"position\")\n",
        "plt.title(\"Positional Controller\")\n",
        "plt.axhline(y=90, color='b', linestyle='--')\n",
        "plt.axhline(y=10, color='r', linestyle='--')\n",
        "plt.axhline(y=60, color='g', linestyle='--')"
      ],
      "execution_count": null,
      "outputs": [
        {
          "output_type": "execute_result",
          "data": {
            "text/plain": [
              "<matplotlib.lines.Line2D at 0x7f4a96bd7c18>"
            ]
          },
          "metadata": {
            "tags": []
          },
          "execution_count": 10
        },
        {
          "output_type": "display_data",
          "data": {
            "image/png": "[encoded data removed]",
            "text/plain": [
              "<Figure size 432x288 with 1 Axes>"
            ]
          },
          "metadata": {
            "tags": []
          }
        }
      ]
    },
    {
      "cell_type": "code",
      "metadata": {
        "id": "8dKEDyLjRrAP",
        "colab": {
          "base_uri": "https://localhost:8080/",
          "height": 319
        },
        "outputId": "61e74725-b71a-43d9-9b74-f76ca05b518e"
      },
      "source": [
        "plt.plot(pos_cont.vel_history)"
      ],
      "execution_count": null,
      "outputs": [
        {
          "output_type": "execute_result",
          "data": {
            "text/plain": [
              "[<matplotlib.lines.Line2D at 0x7f4a96bc2be0>,\n",
              " <matplotlib.lines.Line2D at 0x7f4a96bc2d68>,\n",
              " <matplotlib.lines.Line2D at 0x7f4a96bc2eb8>]"
            ]
          },
          "metadata": {
            "tags": []
          },
          "execution_count": 11
        },
        {
          "output_type": "display_data",
          "data": {
            "image/png": "[encoded data removed]",
            "text/plain": [
              "<Figure size 432x288 with 1 Axes>"
            ]
          },
          "metadata": {
            "tags": []
          }
        }
      ]
    },
    {
      "cell_type": "code",
      "metadata": {
        "id": "uKHZ39pNRrAY"
      },
      "source": [
        "ac = attitude_controller()\n",
        "acn = ac.control(airc, np.identity(3))"
      ],
      "execution_count": null,
      "outputs": []
    },
    {
      "cell_type": "code",
      "metadata": {
        "id": "PJP7h508RrAh",
        "colab": {
          "base_uri": "https://localhost:8080/",
          "height": 283
        },
        "outputId": "7f51e55a-1265-44df-a22b-19d0927fd1d2"
      },
      "source": [
        "plt.plot(pos_cont.accn_d_history)\n",
        "plt.legend(['x','y','z'])"
      ],
      "execution_count": null,
      "outputs": [
        {
          "output_type": "execute_result",
          "data": {
            "text/plain": [
              "<matplotlib.legend.Legend at 0x7f4a96c60f28>"
            ]
          },
          "metadata": {
            "tags": []
          },
          "execution_count": 13
        },
        {
          "output_type": "display_data",
          "data": {
            "image/png": "[encoded data removed]",
            "text/plain": [
              "<Figure size 432x288 with 1 Axes>"
            ]
          },
          "metadata": {
            "tags": []
          }
        }
      ]
    },
    {
      "cell_type": "code",
      "metadata": {
        "id": "iKk5XqozRrAq"
      },
      "source": [
        "class TECS_controller:\n",
        "    def __init__(self, theta = 0, gamma = 0):\n",
        "        self.loop_count = 20000\n",
        "        self.dt = 0.01\n",
        "        self.g = 9.8\n",
        "        self.alpha = 0\n",
        "        self.gamma = gamma\n",
        "        self.T = 0\n",
        "        self.e1 = 0\n",
        "        self.e2 = 0\n",
        "        # energy variables\n",
        "        self.E_to_T = 12\n",
        "        self.ki = 0.0005\n",
        "        self.kd = 0.001\n",
        "        # energy diff variables\n",
        "        self.B_to_theta = 0.1\n",
        "        self.ki2 = 0.01\n",
        "        self.kd2 = 0.0001\n",
        "        self.tau_d = 0.001\n",
        "        self.kh = 0.1\n",
        "        self.kv = 0.2\n",
        "        self.integral_h_d = 0\n",
        "        self.integral_v_d = 0\n",
        "        self.h_d = 0\n",
        "        self.v_d = 0\n",
        "        self.M0 = 5 # DOUBT\n",
        "        self.alpha0 = 1 # DOUBT\n",
        "        self.CD0 = 0.000\n",
        "        self.CL0 = 0.0\n",
        "        self.CLalpha = 4.695\n",
        "        self.CDq = 0\n",
        "        self.CLq = 2.8932\n",
        "        self.rho = 1.225\n",
        "        self.qw = 1 # DOUBT\n",
        "        self.c = 0.5\n",
        "        self.k = self.CD0*10\n",
        "        self.S = 1\n",
        "        self.theta = theta\n",
        "        self.position_history = []\n",
        "        self.velocity_history = []\n",
        "        \n",
        "    def dynamics(self, control_input, pri):\n",
        "        c = 0.39\n",
        "        S = self.S\n",
        "        k = self.CD0*10 # DOUBT\n",
        "        M0 = 5 # DOUBT\n",
        "        alpha0 = 1 # DOUBT\n",
        "        qw = 1 # DOUBT\n",
        "        g = self.g\n",
        "        m = self.aircraft.mass\n",
        "        v = np.linalg.norm(self.aircraft.velocity)\n",
        "        h = self.aircraft.position[2]\n",
        "        \n",
        "        theta_c, T_c = control_input\n",
        "        theta_dot = 0.1*(theta_c-self.theta)\n",
        "        self.theta = self.theta +theta_dot*self.dt\n",
        "        \n",
        "        self.alpha = theta_c - self.gamma\n",
        "        v = np.linalg.norm(self.aircraft.velocity)\n",
        "        \n",
        "        CL = self.CoeffLift(self.alpha) + self.CLq*qw*c/(2*v)\n",
        "        FL = (0.5*self.rho*self.S*v**2)*CL\n",
        "        FD = self.Drag(v, self.alpha)\n",
        "        \n",
        "        v_dot = (1/m)*(T_c*np.cos(self.alpha) - FD - m*g*np.sin(self.gamma))\n",
        "        gamma_dot = (1/(m*v))*(FL + T_c*np.sin(self.alpha) - m*g*np.cos(self.gamma))\n",
        "        \n",
        "        h_dot = v*np.sin(self.gamma)\n",
        "        h_new = h + h_dot*self.dt\n",
        "        v_new = v + v_dot*self.dt\n",
        "        \n",
        "        self.gamma = self.gamma + gamma_dot*self.dt\n",
        "        u_new = v_new*np.cos(self.alpha)\n",
        "        w_new = v_new*np.sin(self.alpha)\n",
        "        x_new = self.aircraft.position[0] + u_new*self.dt\n",
        "        self.aircraft.velocity = np.array([u_new, self.aircraft.velocity[1], w_new])\n",
        "        self.aircraft.position = np.array([x_new,self.aircraft.position[1],h_new])\n",
        "        self.aircraft.attitude = np.array(self.eul_to_rot([self.theta,0,0]))\n",
        "        if(pri):\n",
        "            print(\"T\", T_c)\n",
        "            print(\"me\", self.aircraft.position)\n",
        "\n",
        "        \n",
        "        \n",
        "        \n",
        "        \n",
        "    def control(self, aircraft, height, velocity):\n",
        "        self.aircraft = aircraft\n",
        "        for _ in range(self.loop_count):\n",
        "            pri = 0\n",
        "            guide = self.guidance([height, velocity])\n",
        "            T_c = self.control_energy(guide)\n",
        "            theta_c = self.control_energy_difference(guide)\n",
        "#             if(_%100 == 0):\n",
        "#                 print(\"Tc\",T_c, \"theta\",theta_c)\n",
        "#                 print(\"h\", self.aircraft.position)\n",
        "#                 pri = 1\n",
        "            self.dynamics([theta_c, T_c], pri)\n",
        "            self.position_history.append(self.aircraft.position)\n",
        "            self.velocity_history.append(self.aircraft.velocity)\n",
        "        return self.aircraft\n",
        "    \n",
        "    def control_energy(self, guide):\n",
        "        g = self.g\n",
        "        h_d, h_d_dot, v_d, v_d_dot = guide\n",
        "        v = np.linalg.norm(self.aircraft.velocity)\n",
        "        h = self.aircraft.position[2]\n",
        "        \n",
        "        h_dot = v * np.sin(self.gamma)\n",
        "        v_dot = -g*np.sin(self.gamma) - self.Drag(v, self.alpha) + self.T\n",
        "        \n",
        "        gamma_d = h_d_dot/v_d\n",
        "        gamma = h_dot/v\n",
        "        \n",
        "        E = 0.5 * v/g  + h/v\n",
        "        E_d = 0.5*v_d/g + h_d/v_d\n",
        "        \n",
        "        E_dot = v_dot/g + gamma\n",
        "        E_dot_d = v_d_dot/g + gamma_d\n",
        "        \n",
        "        self.e1 += (E_d - E)*self.dt\n",
        "        delta_T = (self.E_to_T)*(self.ki*self.e1 + (E_d-E) + self.kd*(E_dot_d - E_dot))\n",
        "        T_c = self.T_lim(self.Drag(v, self.alpha) + delta_T)\n",
        "        return T_c\n",
        "    \n",
        "    def control_energy_difference(self, guide):\n",
        "        g = self.g\n",
        "        v = np.linalg.norm(self.aircraft.velocity)\n",
        "        h_d, h_d_dot, v_d, v_d_dot = guide\n",
        "        h_dot = v * np.sin(self.gamma)\n",
        "        v_dot = -g*np.sin(self.gamma) - self.Drag(v, self.alpha) + self.T\n",
        "        \n",
        "        h = self.aircraft.position[2]\n",
        "        \n",
        "        gamma_d = h_d_dot/(v_d)\n",
        "        gamma = h_dot/v\n",
        "\n",
        "        E2 = -0.5*v/g + h/v\n",
        "        E2_d = -0.5*v_d/g + h_d/v_d\n",
        "\n",
        "        E2_dot = -v_dot/g + gamma\n",
        "        E2_dot_d = -v_d_dot/g + gamma_d\n",
        "        \n",
        "        self.e2 += (E2_d - E2)*self.dt\n",
        "        theta_c = self.B_to_theta*(self.ki2 * self.e2 + (E2_d - E2) + self.kd2*(E2_dot_d - E2_dot) + E2_dot_d*self.tau_d)\n",
        "        theta_c = self.theta_lim(theta_c)\n",
        "        return theta_c\n",
        "    \n",
        "    def guidance(self, command_input):\n",
        "        v = np.linalg.norm(self.aircraft.velocity)\n",
        "        h = self.aircraft.position[2]\n",
        "        \n",
        "        h_c, v_c = command_input\n",
        "        \n",
        "        h_d_dot = self.kh*(h_c - self.h_d)\n",
        "        v_d_dot = self.kv*(v_c - self.v_d)\n",
        "        self.integral_h_d += h_d_dot*self.dt\n",
        "        self.integral_v_d += v_d_dot*self.dt\n",
        "        self.h_d = self.integral_h_d\n",
        "        self.v_d = self.integral_v_d\n",
        "        return (self.h_d, h_d_dot, self.v_d, v_d_dot)\n",
        "    \n",
        "    \n",
        "    def Drag(self, v, alpha):\n",
        "        CL = self.CoeffLift(alpha) + self.CLq*self.qw*self.c/(2*v)\n",
        "        CD = self.CD0 + self.k*CL*CL\n",
        "        return (0.5*self.rho*self.S*v**2)*CD\n",
        "    \n",
        "    def T_lim(self, T):\n",
        "        if ( T < 0):\n",
        "            return 0\n",
        "        return min(1000,T)\n",
        "    \n",
        "    def theta_lim(self, theta):\n",
        "        return np.sign(theta)*(min(abs(theta),0.5))\n",
        "\n",
        "    def sigmoid(self,alpha):\n",
        "        # transition rate: M0\n",
        "        a = np.exp(-self.M0 * (alpha - self.alpha0))\n",
        "        b = np.exp(self.M0 * (alpha + self.alpha0))\n",
        "        return (1 + a + b)/((1 + a) * (1 + b))\n",
        "    \n",
        "    def CoeffLift(self,a):\n",
        "        s = self.sigmoid(a)\n",
        "        return (1-s)*(self.CL0+self.CLalpha*a)+s*(2*np.sign(a)*np.sin(a)*np.sin(a)*np.cos(a))\n",
        "    def rot_to_eul(self, R):\n",
        "        if(R[2][0] != 1 and R[2][0] != -1):\n",
        "            theta1 = -np.arcsin(R[2][0])\n",
        "            theta2 = np.pi - theta1\n",
        "            phi1 = np.arctan2(R[2][1] / np.cos(theta1), R[2][2]/np.cos(theta1))\n",
        "            phi2 = np.arctan2(R[2][1] / np.cos(theta2), R[2][2]/np.cos(theta2))\n",
        "            shi1 = np.arctan2(R[1][0] / np.cos(theta1), R[0][0]/np.cos(theta1))\n",
        "            shi2 = np.arctan2(R[1][0] / np.cos(theta2), R[0][0]/np.cos(theta2))\n",
        "            theta = theta1\n",
        "            phi = phi1\n",
        "            shi = shi1\n",
        "        else:\n",
        "            phi = 0\n",
        "            if(R[2][0] == -1):\n",
        "                theta = np.pi/2\n",
        "                shi = phi + np.arctan2(R[0][1], R[0][2])\n",
        "            else:\n",
        "                theta = -np.pi/2\n",
        "                shi = -phi + arctan2(-R[0][1], -R[0][2])\n",
        "        return theta, phi, shi\n",
        "    def eul_to_rot(self, eul):\n",
        "        theta, phi, shi = eul\n",
        "        R1 = [np.cos(theta)*np.cos(shi), np.sin(phi)*np.sin(theta)*np.cos(shi)-np.cos(phi)*np.sin(shi), np.cos(phi)*np.sin(theta)*np.cos(shi)+np.sin(phi)*np.sin(shi)]\n",
        "        R2 = [np.cos(theta)*np.sin(shi), np.sin(phi)*np.sin(theta)*np.sin(shi)+np.cos(phi)*np.cos(shi), np.cos(phi)*np.sin(theta)*np.sin(shi)-np.sin(phi)*np.cos(shi)]\n",
        "        R3 = [-np.sin(theta), np.sin(phi)*np.cos(theta), np.cos(phi)*np.cos(theta)]\n",
        "        R = np.array([R1, R2, R3])\n",
        "        return R"
      ],
      "execution_count": null,
      "outputs": []
    },
    {
      "cell_type": "code",
      "metadata": {
        "id": "4aPEffg4RrAu"
      },
      "source": [
        "tc = TECS_controller()\n",
        "airc = aircraft(mass = 5, I = 0.01*np.identity(3))\n",
        "airc.position = np.array([ 0.1,0 ,180])\n",
        "airc.velocity = np.array([40, 0.1 ,0])"
      ],
      "execution_count": null,
      "outputs": []
    },
    {
      "cell_type": "code",
      "metadata": {
        "id": "SE8TJsY6RrAy"
      },
      "source": [
        "res = tc.control(aircraft = airc, height = 320, velocity = 60)"
      ],
      "execution_count": null,
      "outputs": []
    },
    {
      "cell_type": "code",
      "metadata": {
        "id": "sidICOkpRrA4",
        "colab": {
          "base_uri": "https://localhost:8080/",
          "height": 313
        },
        "outputId": "319c8bb5-d07c-47ec-d4e9-e4be34899c6f"
      },
      "source": [
        "plt.plot(np.array(tc.position_history)[:,2])\n",
        "plt.xlabel(\"time\")\n",
        "plt.ylabel(\"height\")\n",
        "plt.title(\"TECS Controller\")\n",
        "plt.axhline(y=320, color='b', linestyle='--')"
      ],
      "execution_count": null,
      "outputs": [
        {
          "output_type": "execute_result",
          "data": {
            "text/plain": [
              "<matplotlib.lines.Line2D at 0x7f4a967c9b00>"
            ]
          },
          "metadata": {
            "tags": []
          },
          "execution_count": 17
        },
        {
          "output_type": "display_data",
          "data": {
            "image/png": "[encoded data removed]",
            "text/plain": [
              "<Figure size 432x288 with 1 Axes>"
            ]
          },
          "metadata": {
            "tags": []
          }
        }
      ]
    },
    {
      "cell_type": "code",
      "metadata": {
        "id": "-d1QcaenRrA9",
        "colab": {
          "base_uri": "https://localhost:8080/",
          "height": 313
        },
        "outputId": "4a0da5ff-cf16-42f6-f272-4d3eed0fcd1d"
      },
      "source": [
        "plt.plot(tc.velocity_history)\n",
        "plt.legend(['x', 'y', 'z'])\n",
        "plt.xlabel(\"time\")\n",
        "plt.ylabel(\"velocity\")\n",
        "plt.title(\"TECS Controller\")\n",
        "plt.axhline(y=60, color='b', linestyle='--')"
      ],
      "execution_count": null,
      "outputs": [
        {
          "output_type": "execute_result",
          "data": {
            "text/plain": [
              "<matplotlib.lines.Line2D at 0x7f4a966d1940>"
            ]
          },
          "metadata": {
            "tags": []
          },
          "execution_count": 18
        },
        {
          "output_type": "display_data",
          "data": {
            "image/png": "[encoded data removed]",
            "text/plain": [
              "<Figure size 432x288 with 1 Axes>"
            ]
          },
          "metadata": {
            "tags": []
          }
        }
      ]
    },
    {
      "cell_type": "code",
      "metadata": {
        "id": "SKBP26KKRrBC",
        "colab": {
          "base_uri": "https://localhost:8080/",
          "height": 35
        },
        "outputId": "3790489d-8a7c-4d5b-b899-6a464f7995f8"
      },
      "source": [
        "tc.T"
      ],
      "execution_count": null,
      "outputs": [
        {
          "output_type": "execute_result",
          "data": {
            "text/plain": [
              "0"
            ]
          },
          "metadata": {
            "tags": []
          },
          "execution_count": 19
        }
      ]
    },
    {
      "cell_type": "code",
      "metadata": {
        "id": "L9jaE8KXRrBH",
        "colab": {
          "base_uri": "https://localhost:8080/",
          "height": 35
        },
        "outputId": "15264910-4209-49a5-d7df-310aaf709ec4"
      },
      "source": [
        "res.velocity"
      ],
      "execution_count": null,
      "outputs": [
        {
          "output_type": "execute_result",
          "data": {
            "text/plain": [
              "array([61.58483616,  0.1       ,  0.15863262])"
            ]
          },
          "metadata": {
            "tags": []
          },
          "execution_count": 20
        }
      ]
    },
    {
      "cell_type": "code",
      "metadata": {
        "id": "v3uj20a3RrBL",
        "colab": {
          "base_uri": "https://localhost:8080/",
          "height": 35
        },
        "outputId": "52b3f17a-cb31-452c-e929-87bcfa7bdaef"
      },
      "source": [
        "res.position"
      ],
      "execution_count": null,
      "outputs": [
        {
          "output_type": "execute_result",
          "data": {
            "text/plain": [
              "array([12039.42690866,     0.        ,   335.74625958])"
            ]
          },
          "metadata": {
            "tags": []
          },
          "execution_count": 21
        }
      ]
    },
    {
      "cell_type": "code",
      "metadata": {
        "id": "PXsFrP7vRrBR"
      },
      "source": [
        "class transition_controller:\n",
        "    def __init__(self):\n",
        "        self.a = 0\n",
        "        self.v_cruise = 60\n",
        "        self.h_cruise = 320\n",
        "        self.stall = 25*np.pi / 180\n",
        "        self.gamma_d = 0.003198630453473968\n",
        "        self.level_history = []\n",
        "        self.vel_history = []\n",
        "    \n",
        "    def control(self, aircraft):\n",
        "        self.aircraft = aircraft\n",
        "        self.init_euler = self.rot_to_eul(aircraft.attitude)\n",
        "        self.desired_euler = np.array([-np.pi/2,self.init_euler[1],self.init_euler[2]])\n",
        "        self.theta_inter = self.stall + self.gamma_d - np.pi/2\n",
        "        self.inter_euler = np.array([self.theta_inter,self.init_euler[1],self.init_euler[2] ])\n",
        "        at_cont = attitude_controller()\n",
        "        R_inter = self.eul_to_rot(self.inter_euler)\n",
        "        self.aircraft = at_cont.control(aircraft,R_inter)\n",
        "        self.aircraft.position = self.aircraft.position * np.array([1,1,-1])\n",
        "        #self.aircraft.velocity = np.array([30,0,0])\n",
        "\n",
        "        # intermediate achieved\n",
        "        theta_int = np.pi/2 - abs(self.theta_inter)\n",
        "        level_cont = TECS_controller(theta = theta_int)\n",
        "        self.aircraft = level_cont.control(self.aircraft, self.h_cruise, self.v_cruise)\n",
        "        self.level_history = np.array(level_cont.position_history)[:,2]\n",
        "        self.vel_history = np.array(level_cont.velocity_history)\n",
        "        #plt.plot(np.array(level_cont.position_history)[:,2])\n",
        "        return self.aircraft\n",
        "        \n",
        "    def rot_to_eul(self, R):\n",
        "        if(R[2][0] != 1 and R[2][0] != -1):\n",
        "            theta1 = -np.arcsin(R[2][0])\n",
        "            theta2 = np.pi - theta1\n",
        "            phi1 = np.arctan2(R[2][1] / np.cos(theta1), R[2][2]/np.cos(theta1))\n",
        "            phi2 = np.arctan2(R[2][1] / np.cos(theta2), R[2][2]/np.cos(theta2))\n",
        "            shi1 = np.arctan2(R[1][0] / np.cos(theta1), R[0][0]/np.cos(theta1))\n",
        "            shi2 = np.arctan2(R[1][0] / np.cos(theta2), R[0][0]/np.cos(theta2))\n",
        "            theta = theta1\n",
        "            phi = phi1\n",
        "            shi = shi1\n",
        "        else:\n",
        "            phi = 0\n",
        "            if(R[2][0] == -1):\n",
        "                theta = np.pi/2\n",
        "                shi = phi + np.arctan2(R[0][1], R[0][2])\n",
        "            else:\n",
        "                theta = -np.pi/2\n",
        "                shi = -phi + arctan2(-R[0][1], -R[0][2])\n",
        "        return theta, phi, shi\n",
        "    def eul_to_rot(self, eul):\n",
        "        theta, phi, shi = eul\n",
        "        R1 = [np.cos(theta)*np.cos(shi), np.sin(phi)*np.sin(theta)*np.cos(shi)-np.cos(phi)*np.sin(shi), np.cos(phi)*np.sin(theta)*np.cos(shi)+np.sin(phi)*np.sin(shi)]\n",
        "        R2 = [np.cos(theta)*np.sin(shi), np.sin(phi)*np.sin(theta)*np.sin(shi)+np.cos(phi)*np.cos(shi), np.cos(phi)*np.sin(theta)*np.sin(shi)-np.sin(phi)*np.cos(shi)]\n",
        "        R3 = [-np.sin(theta), np.sin(phi)*np.cos(theta), np.cos(phi)*np.cos(theta)]\n",
        "        R = np.array([R1, R2, R3])\n",
        "        return R\n",
        "    "
      ],
      "execution_count": null,
      "outputs": []
    },
    {
      "cell_type": "code",
      "metadata": {
        "id": "VVnPgOXNRrBX",
        "colab": {
          "base_uri": "https://localhost:8080/",
          "height": 313
        },
        "outputId": "1d54d58f-2354-4465-eeed-64b5995a7e4c"
      },
      "source": [
        "airc = aircraft(mass = 5, I = 0.01*np.identity(3))\n",
        "airc.omega = np.array([0,0,0])\n",
        "airc.position = np.array([0,0,0])\n",
        "pos_cont = position_controller()\n",
        "\n",
        "airc = pos_cont.control(airc, np.array([0,0,-150]))\n",
        "trans = transition_controller()\n",
        "res = trans.control(airc)\n",
        "\n",
        "plt.plot(np.array(pos_cont.position_history)[:,2]*-1)\n",
        "plt.legend(['Vx', 'Vy', 'Vz'])\n",
        "plt.xlabel(\"time\")\n",
        "plt.ylabel(\"velocity\")\n",
        "plt.title(\"Forward Transition Controller\")\n",
        "plt.axhline(y=150, color='b', linestyle='--')"
      ],
      "execution_count": null,
      "outputs": [
        {
          "output_type": "execute_result",
          "data": {
            "text/plain": [
              "<matplotlib.lines.Line2D at 0x7f4a96657ef0>"
            ]
          },
          "metadata": {
            "tags": []
          },
          "execution_count": 23
        },
        {
          "output_type": "display_data",
          "data": {
            "image/png": "[encoded data removed]",
            "text/plain": [
              "<Figure size 432x288 with 1 Axes>"
            ]
          },
          "metadata": {
            "tags": []
          }
        }
      ]
    },
    {
      "cell_type": "code",
      "metadata": {
        "id": "nEvSqHUbRrBc"
      },
      "source": [
        "class back_transition:\n",
        "    def __init__(self):\n",
        "        self.integral_h_d = 0\n",
        "        self.integral_v_d = 0\n",
        "        self.h_d = 0\n",
        "        self.v_d = 0\n",
        "        self.M0 = 5 # DOUBT\n",
        "        self.alpha0 = 1 # DOUBT\n",
        "        self.CD0 = 0.000\n",
        "        self.CL0 = 0.0\n",
        "        self.CLalpha = 4.695\n",
        "        self.CDq = 0\n",
        "        self.CLq = 2.8932\n",
        "        self.rho = 1.225\n",
        "        self.qw = 1 # DOUBT\n",
        "        self.c = 0.5\n",
        "        self.k = self.CD0*10\n",
        "        self.S = 1\n",
        "        self.position_history = []\n",
        "        self.velocity_history = []\n",
        "        self.g = 9.8\n",
        "        self.theta = 0\n",
        "        self.dt = 0.01\n",
        "        self.gamma = 0\n",
        "    \n",
        "    def dynamics(self, control_input, pri):\n",
        "        c = 0.39\n",
        "        S = self.S\n",
        "        k = self.CD0*10 # DOUBT\n",
        "        M0 = 5 # DOUBT\n",
        "        alpha0 = 1 # DOUBT\n",
        "        qw = 1 # DOUBT\n",
        "        g = self.g\n",
        "        m = self.aircraft.mass\n",
        "        \n",
        "        v = np.linalg.norm(self.aircraft.velocity)\n",
        "        h = self.aircraft.position[2]\n",
        "        \n",
        "        theta_c, T_c = control_input\n",
        "        theta_dot = 0.1*(theta_c-self.theta)\n",
        "        self.theta = self.theta +theta_dot*self.dt\n",
        "        \n",
        "        self.alpha = theta_c - self.gamma\n",
        "        v = np.linalg.norm(self.aircraft.velocity)\n",
        "        \n",
        "        CL = self.CoeffLift(self.alpha) + self.CLq*qw*c/(2*v)\n",
        "        FL = (0.5*self.rho*self.S*v**2)*CL\n",
        "        FD = self.Drag(v, self.alpha)\n",
        "        \n",
        "        v_dot = (1/m)*(T_c*np.cos(self.alpha) - FD - m*g*np.sin(self.gamma))\n",
        "        gamma_dot = (1/(m*v))*(FL + T_c*np.sin(self.alpha) - m*g*np.cos(self.gamma))\n",
        "        \n",
        "        h_dot = v*np.sin(self.gamma)\n",
        "        h_new = h + h_dot*self.dt\n",
        "        v_new = v + v_dot*self.dt\n",
        "        \n",
        "        self.gamma = self.gamma + gamma_dot*self.dt\n",
        "        u_new = v_new*np.cos(self.alpha)\n",
        "        w_new = v_new*np.sin(self.alpha)\n",
        "        x_new = self.aircraft.position[0] + u_new*self.dt\n",
        "        self.aircraft.velocity = np.array([u_new, self.aircraft.velocity[1], w_new])\n",
        "        self.aircraft.position = np.array([x_new,self.aircraft.position[1],h_new])\n",
        "        self.aircraft.attitude = np.array(self.eul_to_rot([self.theta,0,0]))\n",
        "        if(pri):\n",
        "            print(\"unew\", u_new, \"w_new\", w_new, \"h_new\", h_new)\n",
        "            print(\"me\", self.aircraft.position)\n",
        "        \n",
        "    def control(self, aircraft):\n",
        "        self.aircraft = aircraft\n",
        "        print(self.aircraft.position)\n",
        "        print(self.aircraft.velocity)\n",
        "        print(self.rot_to_eul(self.aircraft.attitude))\n",
        "        theta = self.rot_to_eul(self.aircraft.attitude)[0]\n",
        "        \n",
        "        for _ in range(1000):\n",
        "            theta_c = 0.3*(np.pi/2 - theta)**2\n",
        "            self.dynamics([theta_c, 0],0)\n",
        "            self.position_history.append(self.aircraft.position)\n",
        "            self.velocity_history.append(self.aircraft.velocity)\n",
        "        return self.aircraft\n",
        "\n",
        "    def rot_to_eul(self, R):\n",
        "        if(R[2][0] != 1 and R[2][0] != -1):\n",
        "            theta1 = -np.arcsin(R[2][0])\n",
        "            theta2 = np.pi - theta1\n",
        "            phi1 = np.arctan2(R[2][1] / np.cos(theta1), R[2][2]/np.cos(theta1))\n",
        "            phi2 = np.arctan2(R[2][1] / np.cos(theta2), R[2][2]/np.cos(theta2))\n",
        "            shi1 = np.arctan2(R[1][0] / np.cos(theta1), R[0][0]/np.cos(theta1))\n",
        "            shi2 = np.arctan2(R[1][0] / np.cos(theta2), R[0][0]/np.cos(theta2))\n",
        "            theta = theta1\n",
        "            phi = phi1\n",
        "            shi = shi1\n",
        "        else:\n",
        "            phi = 0\n",
        "            if(R[2][0] == -1):\n",
        "                theta = np.pi/2\n",
        "                shi = phi + np.arctan2(R[0][1], R[0][2])\n",
        "            else:\n",
        "                theta = -np.pi/2\n",
        "                shi = -phi + arctan2(-R[0][1], -R[0][2])\n",
        "        return theta, phi, shi\n",
        "    def Drag(self, v, alpha):\n",
        "        CL = self.CoeffLift(alpha) + self.CLq*self.qw*self.c/(2*v)\n",
        "        CD = self.CD0 + self.k*CL*CL\n",
        "        return (0.5*self.rho*self.S*v**2)*CD\n",
        "\n",
        "    def T_lim(self, T):\n",
        "        if ( T < 0):\n",
        "            return 0\n",
        "        return min(1000,T)\n",
        "    \n",
        "    def theta_lim(self, theta):\n",
        "        return np.sign(theta)*(min(abs(theta),0.5))\n",
        "\n",
        "    def sigmoid(self,alpha):\n",
        "        # transition rate: M0\n",
        "        a = np.exp(-self.M0 * (alpha - self.alpha0))\n",
        "        b = np.exp(self.M0 * (alpha + self.alpha0))\n",
        "        return (1 + a + b)/((1 + a) * (1 + b))\n",
        "    \n",
        "    def CoeffLift(self,a):\n",
        "        s = self.sigmoid(a)\n",
        "        return (1-s)*(self.CL0+self.CLalpha*a)+s*(2*np.sign(a)*np.sin(a)*np.sin(a)*np.cos(a))\n",
        "    def eul_to_rot(self, eul):\n",
        "        theta, phi, shi = eul\n",
        "        R1 = [np.cos(theta)*np.cos(shi), np.sin(phi)*np.sin(theta)*np.cos(shi)-np.cos(phi)*np.sin(shi), np.cos(phi)*np.sin(theta)*np.cos(shi)+np.sin(phi)*np.sin(shi)]\n",
        "        R2 = [np.cos(theta)*np.sin(shi), np.sin(phi)*np.sin(theta)*np.sin(shi)+np.cos(phi)*np.cos(shi), np.cos(phi)*np.sin(theta)*np.sin(shi)-np.sin(phi)*np.cos(shi)]\n",
        "        R3 = [-np.sin(theta), np.sin(phi)*np.cos(theta), np.cos(phi)*np.cos(theta)]\n",
        "        R = np.array([R1, R2, R3])\n",
        "        return R"
      ],
      "execution_count": null,
      "outputs": []
    },
    {
      "cell_type": "code",
      "metadata": {
        "id": "IjTQDdqKRrBf",
        "colab": {
          "base_uri": "https://localhost:8080/",
          "height": 374
        },
        "outputId": "21105441-7eb7-4a85-ae62-fb6d5c955413"
      },
      "source": [
        "airc = aircraft(mass = 5, I = 0.01*np.identity(3))\n",
        "airc.omega = np.array([0,0,0])\n",
        "airc.position = np.array([0,0,0])\n",
        "pos_cont = position_controller()\n",
        "airc = pos_cont.control(airc, np.array([0,0,-150]))\n",
        "\n",
        "trans = transition_controller()\n",
        "res = trans.control(airc)\n",
        "bt = back_transition()\n",
        "nw = bt.control(res)\n",
        "#plt.plot(np.array(bt.position_history)[:,2])\n",
        "\n",
        "pos_cont2 = position_controller()\n",
        "res2 = pos_cont2.control(nw, np.array([0,0,0]))\n",
        "\n",
        "history = []\n",
        "history += list(np.array(pos_cont.position_history)[:,2]*-1)\n",
        "history += list(trans.level_history)\n",
        "history += list(np.array(bt.position_history)[:,2])\n",
        "history += list(np.array(pos_cont2.position_history)[:,2])\n",
        "\n",
        "vel_history = []\n",
        "vel_history += list(np.array(pos_cont.vel_history))\n",
        "vel_history += list(np.array(trans.vel_history))\n",
        "vel_history += list(np.array(bt.velocity_history))\n",
        "plt.plot(vel_history)"
      ],
      "execution_count": null,
      "outputs": [
        {
          "output_type": "stream",
          "text": [
            "[1.27451119e+04 4.02094329e+00 3.58518679e+02]\n",
            "[ 6.49024423e+01 -1.08393266e-02  1.44291344e-01]\n",
            "(0.0025226414628629714, 0.0, 0.0)\n"
          ],
          "name": "stdout"
        },
        {
          "output_type": "execute_result",
          "data": {
            "text/plain": [
              "[<matplotlib.lines.Line2D at 0x7f4a97105908>,\n",
              " <matplotlib.lines.Line2D at 0x7f4a97105a58>,\n",
              " <matplotlib.lines.Line2D at 0x7f4a971206d8>]"
            ]
          },
          "metadata": {
            "tags": []
          },
          "execution_count": 25
        },
        {
          "output_type": "display_data",
          "data": {
            "image/png": "[encoded data removed]",
            "text/plain": [
              "<Figure size 432x288 with 1 Axes>"
            ]
          },
          "metadata": {
            "tags": []
          }
        }
      ]
    },
    {
      "cell_type": "code",
      "metadata": {
        "id": "ktdyR7R7RrCC",
        "colab": {
          "base_uri": "https://localhost:8080/",
          "height": 313
        },
        "outputId": "2568b452-29bc-4091-fc84-7839e3de8220"
      },
      "source": [
        "plt.plot(history)\n",
        "plt.legend(['x', 'y', 'z'])\n",
        "plt.xlabel(\"Iteration\")\n",
        "plt.ylabel(\"Height\")\n",
        "plt.title(\"Overall Simulation\")"
      ],
      "execution_count": null,
      "outputs": [
        {
          "output_type": "execute_result",
          "data": {
            "text/plain": [
              "Text(0.5, 1.0, 'Overall Simulation')"
            ]
          },
          "metadata": {
            "tags": []
          },
          "execution_count": 26
        },
        {
          "output_type": "display_data",
          "data": {
            "image/png": "[encoded data removed]",
            "text/plain": [
              "<Figure size 432x288 with 1 Axes>"
            ]
          },
          "metadata": {
            "tags": []
          }
        }
      ]
    },
    {
      "cell_type": "code",
      "metadata": {
        "id": "2E7Fb3QN6Yig",
        "colab": {
          "base_uri": "https://localhost:8080/",
          "height": 313
        },
        "outputId": "91485ee5-80f6-4818-d544-3fe12cdf3c57"
      },
      "source": [
        "plt.plot(vel_history)\n",
        "plt.legend(['Vx', 'Vy', 'Vz'])\n",
        "plt.xlabel(\"time\")\n",
        "plt.ylabel(\"velocity\")\n",
        "plt.title(\"Overall Simulation\")"
      ],
      "execution_count": null,
      "outputs": [
        {
          "output_type": "execute_result",
          "data": {
            "text/plain": [
              "Text(0.5, 1.0, 'Overall Simulation')"
            ]
          },
          "metadata": {
            "tags": []
          },
          "execution_count": 27
        },
        {
          "output_type": "display_data",
          "data": {
            "image/png": "[encoded data removed]",
            "text/plain": [
              "<Figure size 432x288 with 1 Axes>"
            ]
          },
          "metadata": {
            "tags": []
          }
        }
      ]
    },
    {
      "cell_type": "code",
      "metadata": {
        "id": "N9EQMxez8Lzw"
      },
      "source": [
        ""
      ],
      "execution_count": null,
      "outputs": []
    }
  ]
}